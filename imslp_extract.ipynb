{
 "cells": [
  {
   "cell_type": "markdown",
   "id": "86b8e096-63d7-4013-8c25-461eaa9f2883",
   "metadata": {},
   "source": [
    "Loading a TSV file containing IMSLP (International Music Score Library Project) links."
   ]
  },
  {
   "cell_type": "code",
   "execution_count": 1,
   "id": "d865c559-dbf5-49ce-8e83-e3d7c68e9c2f",
   "metadata": {},
   "outputs": [],
   "source": [
    "import pandas as pd\n",
    "\n",
    "df = pd.read_csv('composers_imslp.tsv', sep='\\t')"
   ]
  },
  {
   "cell_type": "markdown",
   "id": "4f74d44a-76a8-4e03-879b-1b6706d85fb2",
   "metadata": {},
   "source": [
    "Define the variable for the composer's name to filter data."
   ]
  },
  {
   "cell_type": "code",
   "execution_count": 2,
   "id": "db120f60-c386-4f58-8b66-ceb8a57218ed",
   "metadata": {},
   "outputs": [
    {
     "name": "stdout",
     "output_type": "stream",
     "text": [
      "https://imslp.org/wiki/Category:Ives,_Charles\n"
     ]
    }
   ],
   "source": [
    "composer_name = \"Charles Ives\"\n",
    "\n",
    "imslp_url = df.loc[df['Name'] == composer_name, 'IMSLP_URL'].values[0]\n",
    "print(imslp_url)"
   ]
  },
  {
   "cell_type": "markdown",
   "id": "65b2f516-acd6-4ff6-b733-d3c621d740f4",
   "metadata": {},
   "source": [
    "Display all works available on IMSLP."
   ]
  },
  {
   "cell_type": "code",
   "execution_count": 3,
   "id": "37e4a015-ddd8-4a76-adf2-d4e9ce3de069",
   "metadata": {},
   "outputs": [
    {
     "data": {
      "text/plain": [
       "['Adagio sostenuto (Ives, Charles): <https://imslp.org/wiki/Adagio_sostenuto_(Ives,_Charles)>',\n",
       " 'Allegretto sombreoso (Ives, Charles): <https://imslp.org/wiki/Allegretto_sombreoso_(Ives,_Charles)>',\n",
       " 'The Anti-Abolitionist Riots (Ives, Charles): <https://imslp.org/wiki/The_Anti-Abolitionist_Riots_(Ives,_Charles)>',\n",
       " 'Central Park in the Dark (Ives, Charles): <https://imslp.org/wiki/Central_Park_in_the_Dark_(Ives,_Charles)>',\n",
       " 'Circus Band (Ives, Charles): <https://imslp.org/wiki/Circus_Band_(Ives,_Charles)>',\n",
       " 'Essays Before a Sonata (Ives, Charles): <https://imslp.org/wiki/Essays_Before_a_Sonata_(Ives,_Charles)>',\n",
       " 'General William Booth Enters into Heaven (Ives, Charles): <https://imslp.org/wiki/General_William_Booth_Enters_into_Heaven_(Ives,_Charles)>',\n",
       " 'Lincoln, The Great Commoner (Ives, Charles): <https://imslp.org/wiki/Lincoln,_The_Great_Commoner_(Ives,_Charles)>',\n",
       " 'New River (Ives, Charles): <https://imslp.org/wiki/New_River_(Ives,_Charles)>',\n",
       " '2 Organ Pieces (Ives, Charles): <https://imslp.org/wiki/2_Organ_Pieces_(Ives,_Charles)>',\n",
       " 'Over the Pavements (Ives, Charles): <https://imslp.org/wiki/Over_the_Pavements_(Ives,_Charles)>',\n",
       " 'Piano Sonata No.1 (Ives, Charles): <https://imslp.org/wiki/Piano_Sonata_No.1_(Ives,_Charles)>',\n",
       " 'Piano Sonata No.2 (Ives, Charles): <https://imslp.org/wiki/Piano_Sonata_No.2_(Ives,_Charles)>',\n",
       " 'Piano Trio (Ives, Charles): <https://imslp.org/wiki/Piano_Trio_(Ives,_Charles)>',\n",
       " 'Robert Browning Overture (Ives, Charles): <https://imslp.org/wiki/Robert_Browning_Overture_(Ives,_Charles)>',\n",
       " 'Scherzo for String Quartet (Ives, Charles): <https://imslp.org/wiki/Scherzo_for_String_Quartet_(Ives,_Charles)>',\n",
       " 'A Set of 3 Short Pieces, S.84 (Ives, Charles): <https://imslp.org/wiki/A_Set_of_3_Short_Pieces,_S.84_(Ives,_Charles)>',\n",
       " 'A Set of Pieces for Theatre or Chamber Orchestra (Ives, Charles): <https://imslp.org/wiki/A_Set_of_Pieces_for_Theatre_or_Chamber_Orchestra_(Ives,_Charles)>',\n",
       " 'Some South-Paw Pitching (Ives, Charles): <https://imslp.org/wiki/Some_South-Paw_Pitching_(Ives,_Charles)>',\n",
       " 'String Quartet No.1 (Ives, Charles): <https://imslp.org/wiki/String_Quartet_No.1_(Ives,_Charles)>',\n",
       " 'String Quartet No.2 (Ives, Charles): <https://imslp.org/wiki/String_Quartet_No.2_(Ives,_Charles)>',\n",
       " 'Symphony No.2 (Ives, Charles): <https://imslp.org/wiki/Symphony_No.2_(Ives,_Charles)>',\n",
       " 'Symphony No.3 (Ives, Charles): <https://imslp.org/wiki/Symphony_No.3_(Ives,_Charles)>',\n",
       " 'Symphony No.4 (Ives, Charles): <https://imslp.org/wiki/Symphony_No.4_(Ives,_Charles)>',\n",
       " 'They Are There! (Ives, Charles): <https://imslp.org/wiki/They_Are_There!_(Ives,_Charles)>',\n",
       " 'Three Places in New England (Ives, Charles): <https://imslp.org/wiki/Three_Places_in_New_England_(Ives,_Charles)>',\n",
       " 'Three-Page Sonata (Ives, Charles): <https://imslp.org/wiki/Three-Page_Sonata_(Ives,_Charles)>',\n",
       " 'Tone Roads No.1 (Ives, Charles): <https://imslp.org/wiki/Tone_Roads_No.1_(Ives,_Charles)>',\n",
       " 'Tone Roads No.3 (Ives, Charles): <https://imslp.org/wiki/Tone_Roads_No.3_(Ives,_Charles)>',\n",
       " 'The Unanswered Question (Ives, Charles): <https://imslp.org/wiki/The_Unanswered_Question_(Ives,_Charles)>',\n",
       " 'Violin Sonata No.1 (Ives, Charles): <https://imslp.org/wiki/Violin_Sonata_No.1_(Ives,_Charles)>',\n",
       " 'Violin Sonata No.2 (Ives, Charles): <https://imslp.org/wiki/Violin_Sonata_No.2_(Ives,_Charles)>',\n",
       " 'Violin Sonata No.3 (Ives, Charles): <https://imslp.org/wiki/Violin_Sonata_No.3_(Ives,_Charles)>',\n",
       " 'Violin Sonata No.4 (Ives, Charles): <https://imslp.org/wiki/Violin_Sonata_No.4_(Ives,_Charles)>',\n",
       " '114 Songs (Ives, Charles): <https://imslp.org/wiki/114_Songs_(Ives,_Charles)>',\n",
       " 'A Son of a Gambolier (Bachlund, Gary): <https://imslp.org/wiki/A_Son_of_a_Gambolier_(Bachlund,_Gary)>',\n",
       " 'Euangelion (Drehmer, Earl Richard): <https://imslp.org/wiki/Euangelion_(Drehmer,_Earl_Richard)>',\n",
       " 'Piano Study No.1 (Drehmer, Earl Richard): <https://imslp.org/wiki/Piano_Study_No.1_(Drehmer,_Earl_Richard)>',\n",
       " 'Psalm 1 (Drehmer, Earl Richard): <https://imslp.org/wiki/Psalm_1_(Drehmer,_Earl_Richard)>',\n",
       " 'Retratos psicológicos (Tavares, Luciano): <https://imslp.org/wiki/Retratos_psicol%C3%B3gicos_(Tavares,_Luciano)>']"
      ]
     },
     "metadata": {},
     "output_type": "display_data"
    }
   ],
   "source": [
    "import requests\n",
    "from bs4 import BeautifulSoup\n",
    "\n",
    "def extract_works_from_link(imslp_link):\n",
    "    try:\n",
    "        response = requests.get(imslp_link, timeout=10)  # Added a timeout\n",
    "        response.raise_for_status()  # Raises an HTTPError for bad responses\n",
    "        soup = BeautifulSoup(response.content, 'html.parser')\n",
    "        \n",
    "        # Find all works using the categorypagelink class\n",
    "        work_elements = soup.find_all('a', class_='categorypagelink')\n",
    "        \n",
    "        works = [(work_element.text.strip(), \"https://imslp.org\" + work_element['href']) for work_element in work_elements]\n",
    "        return works\n",
    "    except requests.RequestException as e:\n",
    "        print(f\"Failed to retrieve IMSLP page: {e}\")\n",
    "        return []\n",
    "    except Exception as e:\n",
    "        print(f\"Error parsing IMSLP page: {e}\")\n",
    "        return []\n",
    "\n",
    "# Assuming imslp_url is defined and valid\n",
    "imslp_link = imslp_url\n",
    "\n",
    "# Extracting works and their links from the link\n",
    "works_and_links = extract_works_from_link(imslp_link)\n",
    "\n",
    "# Formatting and printing the links\n",
    "formatted_links = [f\"{work}: <{link}>\" for work, link in works_and_links]\n",
    "\n",
    "display(formatted_links)\n"
   ]
  }
 ],
 "metadata": {
  "kernelspec": {
   "display_name": "Python 3 (ipykernel)",
   "language": "python",
   "name": "python3"
  },
  "language_info": {
   "codemirror_mode": {
    "name": "ipython",
    "version": 3
   },
   "file_extension": ".py",
   "mimetype": "text/x-python",
   "name": "python",
   "nbconvert_exporter": "python",
   "pygments_lexer": "ipython3",
   "version": "3.11.7"
  }
 },
 "nbformat": 4,
 "nbformat_minor": 5
}
