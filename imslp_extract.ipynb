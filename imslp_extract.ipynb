{
 "cells": [
  {
   "cell_type": "markdown",
   "id": "86b8e096-63d7-4013-8c25-461eaa9f2883",
   "metadata": {},
   "source": [
    "Loading a TSV file containing IMSLP (International Music Score Library Project) links."
   ]
  },
  {
   "cell_type": "code",
   "execution_count": 1,
   "id": "d865c559-dbf5-49ce-8e83-e3d7c68e9c2f",
   "metadata": {},
   "outputs": [],
   "source": [
    "import pandas as pd\n",
    "\n",
    "df = pd.read_csv('composers_imslp.tsv', sep='\\t')"
   ]
  },
  {
   "cell_type": "markdown",
   "id": "4f74d44a-76a8-4e03-879b-1b6706d85fb2",
   "metadata": {},
   "source": [
    "Define the variable for the composer's name to filter data."
   ]
  },
  {
   "cell_type": "code",
   "execution_count": 11,
   "id": "db120f60-c386-4f58-8b66-ceb8a57218ed",
   "metadata": {},
   "outputs": [
    {
     "name": "stdout",
     "output_type": "stream",
     "text": [
      "https://imslp.org/wiki/Category:Shostakovich,_Dmitri\n"
     ]
    }
   ],
   "source": [
    "composer_name = \"Dmitri Shostakovich\"\n",
    "\n",
    "imslp_url = df.loc[df['Name'] == composer_name, 'IMSLP_URL'].values[0]\n",
    "print(imslp_url)"
   ]
  },
  {
   "cell_type": "markdown",
   "id": "65b2f516-acd6-4ff6-b733-d3c621d740f4",
   "metadata": {},
   "source": [
    "Display all works available on IMSLP."
   ]
  },
  {
   "cell_type": "code",
   "execution_count": 12,
   "id": "37e4a015-ddd8-4a76-adf2-d4e9ce3de069",
   "metadata": {},
   "outputs": [
    {
     "data": {
      "text/plain": [
       "['Aphorisms, Op.13 (Shostakovich, Dmitry): <https://imslp.org/wiki/Aphorisms,_Op.13_(Shostakovich,_Dmitry)>',\n",
       " '3 Fantastic Dances, Op.5 (Shostakovich, Dmitry): <https://imslp.org/wiki/3_Fantastic_Dances,_Op.5_(Shostakovich,_Dmitry)>',\n",
       " 'Piano Sonata No.1, Op.12 (Shostakovich, Dmitry): <https://imslp.org/wiki/Piano_Sonata_No.1,_Op.12_(Shostakovich,_Dmitry)>',\n",
       " 'Prelude and Scherzo, Op.11 (Shostakovich, Dmitry): <https://imslp.org/wiki/Prelude_and_Scherzo,_Op.11_(Shostakovich,_Dmitry)>',\n",
       " 'Symphony No.1, Op.10 (Shostakovich, Dmitry): <https://imslp.org/wiki/Symphony_No.1,_Op.10_(Shostakovich,_Dmitry)>',\n",
       " 'Symphony No.2, Op.14 (Shostakovich, Dmitry): <https://imslp.org/wiki/Symphony_No.2,_Op.14_(Shostakovich,_Dmitry)>',\n",
       " 'Cinderella, Op.87 (Prokofiev, Sergey): <https://imslp.org/wiki/Cinderella,_Op.87_(Prokofiev,_Sergey)>',\n",
       " 'Collected Works (Prokofiev, Sergey): <https://imslp.org/wiki/Collected_Works_(Prokofiev,_Sergey)>',\n",
       " 'Complete Collected Works (Rimsky-Korsakov, Nikolay): <https://imslp.org/wiki/Complete_Collected_Works_(Rimsky-Korsakov,_Nikolay)>',\n",
       " 'The Snow Maiden (opera) (Rimsky-Korsakov, Nikolay): <https://imslp.org/wiki/The_Snow_Maiden_(opera)_(Rimsky-Korsakov,_Nikolay)>',\n",
       " 'War and Peace, Op.91 (Prokofiev, Sergey): <https://imslp.org/wiki/War_and_Peace,_Op.91_(Prokofiev,_Sergey)>',\n",
       " '5 Poems by Pushkin, Op.10 (Shaporin, Yury): <https://imslp.org/wiki/5_Poems_by_Pushkin,_Op.10_(Shaporin,_Yury)>',\n",
       " 'String Quartet No.2, Op.69 (Brandes, Felipe): <https://imslp.org/wiki/String_Quartet_No.2,_Op.69_(Brandes,_Felipe)>',\n",
       " 'Symphony No.1 (Mirzazade, Khayyam): <https://imslp.org/wiki/Symphony_No.1_(Mirzazade,_Khayyam)>']"
      ]
     },
     "metadata": {},
     "output_type": "display_data"
    }
   ],
   "source": [
    "import requests\n",
    "from bs4 import BeautifulSoup\n",
    "\n",
    "def extract_works_from_link(imslp_link):\n",
    "    try:\n",
    "        response = requests.get(imslp_link, timeout=10)  # Added a timeout\n",
    "        response.raise_for_status()  # Raises an HTTPError for bad responses\n",
    "        soup = BeautifulSoup(response.content, 'html.parser')\n",
    "        \n",
    "        # Find all works using the categorypagelink class\n",
    "        work_elements = soup.find_all('a', class_='categorypagelink')\n",
    "        \n",
    "        works = [(work_element.text.strip(), \"https://imslp.org\" + work_element['href']) for work_element in work_elements]\n",
    "        return works\n",
    "    except requests.RequestException as e:\n",
    "        print(f\"Failed to retrieve IMSLP page: {e}\")\n",
    "        return []\n",
    "    except Exception as e:\n",
    "        print(f\"Error parsing IMSLP page: {e}\")\n",
    "        return []\n",
    "\n",
    "# Assuming imslp_url is defined and valid\n",
    "imslp_link = imslp_url\n",
    "\n",
    "# Extracting works and their links from the link\n",
    "works_and_links = extract_works_from_link(imslp_link)\n",
    "\n",
    "# Formatting and printing the links\n",
    "formatted_links = [f\"{work}: <{link}>\" for work, link in works_and_links]\n",
    "\n",
    "display(formatted_links)\n"
   ]
  }
 ],
 "metadata": {
  "kernelspec": {
   "display_name": "Python 3 (ipykernel)",
   "language": "python",
   "name": "python3"
  },
  "language_info": {
   "codemirror_mode": {
    "name": "ipython",
    "version": 3
   },
   "file_extension": ".py",
   "mimetype": "text/x-python",
   "name": "python",
   "nbconvert_exporter": "python",
   "pygments_lexer": "ipython3",
   "version": "3.11.7"
  }
 },
 "nbformat": 4,
 "nbformat_minor": 5
}
